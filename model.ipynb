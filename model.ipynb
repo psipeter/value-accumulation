{
 "cells": [
  {
   "cell_type": "markdown",
   "id": "632b3f07",
   "metadata": {},
   "source": [
    "# Title\n",
    "Info"
   ]
  },
  {
   "cell_type": "code",
   "execution_count": 1,
   "id": "d1a7c22d",
   "metadata": {},
   "outputs": [],
   "source": [
    "import numpy as np\n",
    "import nengo\n",
    "import matplotlib.pyplot as plt\n",
    "import seaborn as sns\n",
    "import pandas as pd\n",
    "\n",
    "palette = sns.color_palette(\"colorblind\")\n",
    "sns.set_palette(palette)\n",
    "# sns.set(context='paper', style='white', font='CMU Serif', rc={'axes.labelpad':0, 'axes.linewidth': 0.5})\n",
    "sns.set(context='paper', style='whitegrid', font='CMU Serif', rc={'axes.labelpad':0, 'axes.linewidth': 0.5})\n",
    "sns.set_context(\"notebook\", rc={\"grid.linewidth\": 0.5})"
   ]
  },
  {
   "cell_type": "code",
   "execution_count": 141,
   "id": "a43fd14a",
   "metadata": {},
   "outputs": [],
   "source": [
    "class Inputs():\n",
    "    def __init__(self, deltaP, maxSamples, seed=0):\n",
    "        self.deltaP = deltaP\n",
    "        self.maxSamples = maxSamples\n",
    "        self.winning = None\n",
    "        self.pA = None\n",
    "        self.pB = None\n",
    "        self.As = []\n",
    "        self.Bs = []\n",
    "        self.rng = np.random.RandomState(seed=seed)\n",
    "    def set_AB(self):\n",
    "        self.winning = \"A\" if self.rng.rand()<0.5 else \"B\"\n",
    "        highs = np.arange(0.1+self.deltaP, 0.9, 0.1)\n",
    "        high = highs[self.rng.randint(len(highs))]\n",
    "        low = high - self.deltaP\n",
    "        if self.winning==\"A\":\n",
    "            self.pA = high\n",
    "            self.pB = low\n",
    "        else:\n",
    "            self.pB = high\n",
    "            self.pA = low\n",
    "        self.As = self.rng.binomial(1, self.pA, self.maxSamples)\n",
    "        self.Bs = self.rng.binomial(1, self.pB, self.maxSamples)\n",
    "        self.As[np.where(self.As==0)[0]] = -1\n",
    "        self.Bs[np.where(self.Bs==0)[0]] = -1\n",
    "    def get_AB(self, t):\n",
    "        AB = [self.As[int(t)], self.Bs[int(t)]] if t<self.maxSamples else [0,0]\n",
    "        AB = [AB[0], 0] if t%1.0<0.5 else [0, AB[1]]  # A presented for 500ms, then B presented for 500ms\n",
    "        return AB"
   ]
  },
  {
   "cell_type": "code",
   "execution_count": 213,
   "id": "4902a1fd",
   "metadata": {},
   "outputs": [],
   "source": [
    "def build_network(inputs, nNeurons=500, tau=0.1, seed=0, maxSamples=12,\n",
    "        w_time_elapsed=0.5, w_ramp_rate=2, w_delta_evidence=0, decision_threshold=0.4, starting_evidence=0):\n",
    "    \n",
    "    net = nengo.Network(seed=seed)\n",
    "    net.config[nengo.Connection].synapse = 0.03\n",
    "    net.config[nengo.Probe].synapse = 0.03\n",
    "    \n",
    "    func_time_elapsed = lambda t: decision_threshold * (1 - w_time_elapsed * t/maxSamples)\n",
    "    func_ramp = lambda x: tau * w_ramp_rate/maxSamples * x\n",
    "    func_uncertainty = lambda x: w_delta_evidence * np.abs(x[0]-x[1])\n",
    "\n",
    "    with net:\n",
    "        # Inputs\n",
    "        AB = nengo.Node(lambda t, x: inputs.get_AB(t), size_in=2)\n",
    "        time_elapsed = nengo.Node(lambda t: t)\n",
    "        start_accumulate = nengo.Node(lambda t: starting_evidence if t<1 else 0)\n",
    "        bias_BG = nengo.Node(0.5)\n",
    "        \n",
    "        # Ensembles\n",
    "        value = nengo.networks.EnsembleArray(nNeurons, 2)\n",
    "        accumulate = nengo.networks.EnsembleArray(nNeurons, 2)\n",
    "        diff = nengo.Ensemble(2*nNeurons, 2)\n",
    "        BG = nengo.networks.BasalGanglia(2, nNeurons)\n",
    "        gate = nengo.Ensemble(nNeurons, 1)\n",
    "        action = nengo.networks.Thalamus(2, nNeurons, threshold=0.0, mutual_inhib=0)\n",
    "        \n",
    "        # Connections\n",
    "        nengo.Connection(AB, value.input)\n",
    "        nengo.Connection(time_elapsed, gate, function=func_time_elapsed)\n",
    "        nengo.Connection(start_accumulate, accumulate.input, transform=[[1], [1]], synapse=tau, function=func_ramp)\n",
    "        nengo.Connection(value.ea_ensembles[0], accumulate.ea_ensembles[0], synapse=tau, function=func_ramp)\n",
    "        nengo.Connection(value.ea_ensembles[1], accumulate.ea_ensembles[1], synapse=tau, function=func_ramp)\n",
    "        nengo.Connection(accumulate.output, accumulate.input, synapse=tau)\n",
    "        nengo.Connection(accumulate.output, BG.input)\n",
    "        nengo.Connection(accumulate.output, diff)\n",
    "        nengo.Connection(diff, gate, function=func_uncertainty)\n",
    "        nengo.Connection(gate, BG.stn.input, transform=[[1], [1]])\n",
    "        nengo.Connection(bias_BG, BG.input, transform=[[1], [1]])\n",
    "        nengo.Connection(BG.output, action.input, transform=2)\n",
    "\n",
    "        # Probes\n",
    "        net.pAB = nengo.Probe(AB)\n",
    "        net.pValue = nengo.Probe(value.output)\n",
    "        net.pAccumulate = nengo.Probe(accumulate.output)\n",
    "        net.pDiff = nengo.Probe(diff)\n",
    "        net.pGate = nengo.Probe(gate)\n",
    "        net.pBG = nengo.Probe(BG.output)\n",
    "        net.pAction = nengo.Probe(action.output)\n",
    "        \n",
    "        # references\n",
    "        net.ramp_rate = w_ramp_rate/maxSamples\n",
    "        \n",
    "    return net"
   ]
  },
  {
   "cell_type": "code",
   "execution_count": 214,
   "id": "ebd6591b",
   "metadata": {},
   "outputs": [],
   "source": [
    "def is_correct(inputs, net, sim, dt=0.001, action_threshold=0.05):\n",
    "    chooseA = np.argwhere(sim.data[net.pAction][:,0] > action_threshold)\n",
    "    chooseB = np.argwhere(sim.data[net.pAction][:,1] > action_threshold)\n",
    "    timeA = chooseA[0][0]*dt if len(chooseA)>0 else sim.trange()[-1]\n",
    "    timeB = chooseB[0][0]*dt if len(chooseB)>0 else sim.trange()[-1]\n",
    "    if inputs.winning==\"A\":\n",
    "        if timeA == timeB:  # forced response\n",
    "            correct = True if sim.data[net.pAccumulate][-1][0] > sim.data[net.pAccumulate][-1][1] else False\n",
    "            time = timeA\n",
    "        elif timeA < timeB:\n",
    "            correct = True\n",
    "            time = timeA\n",
    "        elif timeB < timeA:\n",
    "            correct = False\n",
    "            time = timeB\n",
    "    elif inputs.winning==\"B\":\n",
    "        if timeB == timeA:  # forced response\n",
    "            correct = True if sim.data[net.pAccumulate][-1][1] > sim.data[net.pAccumulate][-1][0] else False\n",
    "            time = timeB\n",
    "        elif timeB < timeA:\n",
    "            correct = True\n",
    "            time = timeB\n",
    "        elif timeA < timeB:\n",
    "            correct = False\n",
    "            time = timeA\n",
    "    return correct, int(np.ceil(time))"
   ]
  },
  {
   "cell_type": "code",
   "execution_count": 215,
   "id": "6251c9d0",
   "metadata": {},
   "outputs": [],
   "source": [
    "def run_once(deltaP, maxSamples, seed, dt=0.001):\n",
    "    inputs = Inputs(deltaP=deltaP, maxSamples=maxSamples, seed=seed)\n",
    "    inputs.set_AB()\n",
    "    net = build_network(inputs, seed=seed, maxSamples=maxSamples)\n",
    "    sim = nengo.Simulator(net, progress_bar=False)\n",
    "    with sim:\n",
    "        sim.run(maxSamples, progress_bar=True)\n",
    "    fig, ax = plt.subplots(nrows=1, ncols=1, sharex=True, figsize=((6.38, 3)))\n",
    "    idealA = np.cumsum(sim.data[net.pAB][:,0]) * net.ramp_rate * dt\n",
    "    idealB = np.cumsum(sim.data[net.pAB][:,1]) * net.ramp_rate * dt\n",
    "    ax.plot(sim.trange(), idealA, label=\"ideal A\", linestyle=\"--\", color=palette[0])\n",
    "    ax.plot(sim.trange(), idealB, label=\"ideal B\", linestyle=\"--\", color=palette[1])\n",
    "    ax.plot(sim.trange(), sim.data[net.pAccumulate][:,0], label=\"evidence A\", color=palette[0])\n",
    "    ax.plot(sim.trange(), sim.data[net.pAccumulate][:,1], label=\"evidence B\", color=palette[1])\n",
    "    ax.plot(sim.trange(), sim.data[net.pAction][:,0], label=\"choose A\", alpha=0.3, color=palette[0])\n",
    "    ax.plot(sim.trange(), sim.data[net.pAction][:,1], label=\"choose B\", alpha=0.3, color=palette[1])\n",
    "    ax.plot(sim.trange(), sim.data[net.pGate], label='gate', color='k')\n",
    "    correct, cues = is_correct(inputs, net, sim)\n",
    "    title = f\"{'correct' if correct else 'incorrect'}, cues={cues:.0f}\"\n",
    "    ax.set(xlabel=\"time (s)\", ylabel=r\"$\\mathbf{x}(t)$\", title=title, xticks=np.arange(0, maxSamples, 1))\n",
    "#     fig, axes = plt.subplots(nrows=2, ncols=1, sharex=True, figsize=((6.38, 4)))\n",
    "#     idealA = np.cumsum(sim.data[net.pAB][:,0]) * net.ramp_rate * dt\n",
    "#     idealB = np.cumsum(sim.data[net.pAB][:,1]) * net.ramp_rate * dt\n",
    "#     axes[0].plot(sim.trange(), idealA, label=\"ideal A\", linestyle=\"--\", color=palette[0])\n",
    "#     axes[0].plot(sim.trange(), idealB, label=\"ideal B\", linestyle=\"--\", color=palette[1])\n",
    "#     axes[0].plot(sim.trange(), sim.data[net.pAccumulate][:,0], label=\"evidence A\", color=palette[0])\n",
    "#     axes[0].plot(sim.trange(), sim.data[net.pAccumulate][:,1], label=\"evidence B\", color=palette[1])\n",
    "#     axes[1].plot(sim.trange(), sim.data[net.pGate], label='gate', color='k')\n",
    "#     axes[1].plot(sim.trange(), sim.data[net.pBG][:,0], label=\"BG A\", color=palette[0])\n",
    "#     axes[1].plot(sim.trange(), sim.data[net.pBG][:,1], label=\"BG B\", color=palette[1])\n",
    "#     axes[1].plot(sim.trange(), sim.data[net.pAction][:,0], label=\"choose A\", alpha=0.3, color=palette[0])\n",
    "#     axes[1].plot(sim.trange(), sim.data[net.pAction][:,1], label=\"choose B\", alpha=0.3, color=palette[1])\n",
    "#     axes[0].set(ylabel=r\"$\\mathbf{x}(t)$\")\n",
    "#     axes[1].set(xlabel=\"time (s)\", ylabel=r\"$\\mathbf{x}(t)$\")\n",
    "#     axes[0].legend(loc='upper left')\n",
    "#     axes[1].legend(loc='upper left')"
   ]
  },
  {
   "cell_type": "code",
   "execution_count": 216,
   "id": "d047d554",
   "metadata": {},
   "outputs": [
    {
     "data": {
      "application/vdom.v1+json": {
       "attributes": {},
       "tagName": "div"
      },
      "text/html": [
       "\n",
       "                <script>\n",
       "                    if (Jupyter.version.split(\".\")[0] < 5) {\n",
       "                        var pb = document.getElementById(\"273a2b42-3be6-49be-94ff-d64018ac31aa\");\n",
       "                        var text = document.createTextNode(\n",
       "                            \"HMTL progress bar requires Jupyter Notebook >= \" +\n",
       "                            \"5.0 or Jupyter Lab. Alternatively, you can use \" +\n",
       "                            \"TerminalProgressBar().\");\n",
       "                        pb.parentNode.insertBefore(text, pb);\n",
       "                    }\n",
       "                </script>\n",
       "                <div id=\"273a2b42-3be6-49be-94ff-d64018ac31aa\" style=\"\n",
       "                    width: 100%;\n",
       "                    border: 1px solid #cfcfcf;\n",
       "                    border-radius: 4px;\n",
       "                    text-align: center;\n",
       "                    position: relative;\">\n",
       "                  <div class=\"pb-text\" style=\"\n",
       "                      position: absolute;\n",
       "                      width: 100%;\">\n",
       "                    0%\n",
       "                  </div>\n",
       "                  <div class=\"pb-fill\" style=\"\n",
       "                      background-color: #bdd2e6;\n",
       "                      width: 0%;\">\n",
       "                    <style type=\"text/css\" scoped=\"scoped\">\n",
       "                        @keyframes pb-fill-anim {\n",
       "                            0% { background-position: 0 0; }\n",
       "                            100% { background-position: 100px 0; }\n",
       "                        }\n",
       "                    </style>\n",
       "                    &nbsp;\n",
       "                  </div>\n",
       "                </div>"
      ],
      "text/plain": [
       "HtmlProgressBar cannot be displayed. Please use the TerminalProgressBar. It can be enabled with `nengo.rc['progress']['progress_bar'] = 'nengo.utils.progress.TerminalProgressBar'`."
      ]
     },
     "metadata": {},
     "output_type": "display_data"
    },
    {
     "data": {
      "application/vdom.v1+json": {
       "attributes": {
        "id": "a8fc1526-4692-4562-8651-193f3a7a1f92",
        "style": {
         "border": "1px solid #cfcfcf",
         "borderRadius": "4px",
         "boxSizing": "border-box",
         "position": "relative",
         "textAlign": "center",
         "width": "100%"
        }
       },
       "children": [
        {
         "attributes": {
          "class": "pb-text",
          "style": {
           "position": "absolute",
           "width": "100%"
          }
         },
         "children": [
          "Simulation finished in 0:00:24."
         ],
         "tagName": "div"
        },
        {
         "attributes": {
          "class": "pb-fill",
          "style": {
           "animation": "none",
           "backgroundColor": "#bdd2e6",
           "backgroundImage": "none",
           "transition": "width 0.1s linear",
           "width": "100%"
          }
         },
         "children": [
          {
           "attributes": {
            "scoped": "scoped",
            "type": "text/css"
           },
           "children": [
            "\n                        @keyframes pb-fill-anim {\n                            0% { background-position: 0 0; }\n                            100% { background-position: 100px 0; }\n                        }}"
           ],
           "tagName": "style"
          },
          " "
         ],
         "tagName": "div"
        }
       ],
       "tagName": "div"
      },
      "text/html": [
       "<script>\n",
       "              (function () {\n",
       "                  var root = document.getElementById('273a2b42-3be6-49be-94ff-d64018ac31aa');\n",
       "                  var text = root.getElementsByClassName('pb-text')[0];\n",
       "                  var fill = root.getElementsByClassName('pb-fill')[0];\n",
       "\n",
       "                  text.innerHTML = 'Simulation finished in 0:00:24.';\n",
       "                  \n",
       "            if (100.0 > 0.) {\n",
       "                fill.style.transition = 'width 0.1s linear';\n",
       "            } else {\n",
       "                fill.style.transition = 'none';\n",
       "            }\n",
       "\n",
       "            fill.style.width = '100.0%';\n",
       "            fill.style.animation = 'none';\n",
       "            fill.style.backgroundImage = 'none'\n",
       "        \n",
       "                  \n",
       "                fill.style.animation = 'none';\n",
       "                fill.style.backgroundImage = 'none';\n",
       "            \n",
       "              })();\n",
       "        </script>"
      ]
     },
     "metadata": {},
     "output_type": "display_data"
    },
    {
     "data": {
      "image/png": "[encoded data removed]",
      "text/plain": [
       "<Figure size 638x300 with 1 Axes>"
      ]
     },
     "metadata": {},
     "output_type": "display_data"
    }
   ],
   "source": [
    "run_once(deltaP=0.4, maxSamples=12, seed=3)"
   ]
  },
  {
   "cell_type": "code",
   "execution_count": 217,
   "id": "1e7e890a",
   "metadata": {},
   "outputs": [],
   "source": [
    "def run_trials(nTrials, deltaP, maxSamples, seed, dt=0.001):\n",
    "    dfs = []\n",
    "    columns = ('seed', 'trial', 'correct', 'cues')\n",
    "    inputs = Inputs(deltaP=deltaP, maxSamples=maxSamples, seed=seed)\n",
    "    for n in range(nTrials):\n",
    "        print(f\"trial {n}\")\n",
    "        inputs.set_AB()\n",
    "        net = build_network(inputs, seed=seed)\n",
    "        sim = nengo.Simulator(net, progress_bar=False)\n",
    "        with sim:\n",
    "            sim.run(maxSamples, progress_bar=False)\n",
    "        correct, cues = is_correct(inputs, net, sim)\n",
    "        dfs.append(pd.DataFrame([[seed, n, correct, cues]], columns=columns))\n",
    "    data = pd.concat(dfs, ignore_index=True)\n",
    "    return(data)"
   ]
  },
  {
   "cell_type": "code",
   "execution_count": 218,
   "id": "8c093616",
   "metadata": {},
   "outputs": [
    {
     "name": "stdout",
     "output_type": "stream",
     "text": [
      "trial 0\n",
      "trial 1\n",
      "trial 2\n",
      "trial 3\n",
      "trial 4\n",
      "trial 5\n",
      "trial 6\n",
      "trial 7\n",
      "trial 8\n",
      "trial 9\n"
     ]
    }
   ],
   "source": [
    "data = run_trials(nTrials=10, deltaP=0.4, maxSamples=12, seed=0)"
   ]
  },
  {
   "cell_type": "code",
   "execution_count": 219,
   "id": "6db115e0",
   "metadata": {},
   "outputs": [
    {
     "data": {
      "image/png": "[encoded data removed]",
      "text/plain": [
       "<Figure size 638x300 with 1 Axes>"
      ]
     },
     "metadata": {},
     "output_type": "display_data"
    }
   ],
   "source": [
    "fig, ax = plt.subplots(figsize=((6.38, 3)))\n",
    "sns.regplot(data=data, x=\"cues\", y=\"correct\", ax=ax)\n",
    "ax.set(xticks=np.arange(0, 12, 1))\n",
    "plt.show()"
   ]
  },
  {
   "cell_type": "code",
   "execution_count": 226,
   "id": "065ab615",
   "metadata": {},
   "outputs": [],
   "source": [
    "def scan_parameter(scan, nNetworks, nTrials, deltaP, maxSamples, dt=0.001, low=0.2, high=0.5):\n",
    "    dfs = []\n",
    "    columns = ('scan', 'param', 'seed', 'trial', 'correct', 'cues')\n",
    "    rng = np.random.RandomState(seed=nNetworks)\n",
    "    for s in range(nNetworks):\n",
    "        print(f\"seed {s}\")\n",
    "        inputs = Inputs(deltaP=deltaP, maxSamples=maxSamples, seed=s)\n",
    "        param = rng.uniform(low, high)\n",
    "        for n in range(nTrials):\n",
    "            print(f\"trial {n}\")\n",
    "            inputs.set_AB()\n",
    "            if scan==\"decision threshold\":\n",
    "                net = build_network(inputs, seed=s, decision_threshold=param)\n",
    "            else:\n",
    "                raise\n",
    "            sim = nengo.Simulator(net, progress_bar=False)\n",
    "            with sim:\n",
    "                sim.run(maxSamples, progress_bar=False)\n",
    "            correct, cues = is_correct(inputs, net, sim)\n",
    "            dfs.append(pd.DataFrame([[scan, param, s, n, correct, cues]], columns=columns))\n",
    "    data = pd.concat(dfs, ignore_index=True)\n",
    "    return(data)"
   ]
  },
  {
   "cell_type": "code",
   "execution_count": 265,
   "id": "610f9714",
   "metadata": {},
   "outputs": [],
   "source": [
    "def collapse_scan(data, scan):\n",
    "    dfs = []\n",
    "    columns = ('scan', 'param', 'seed', 'mean correct', 'mean cues')\n",
    "    for s in range(data['seed'].max()+1):\n",
    "        d = data.query(\"seed==@s\")\n",
    "        dfs.append(pd.DataFrame([[scan, d['param'].mean(), s, d['correct'].mean(), d['cues'].mean()]], columns=columns))\n",
    "    collapsed_data = pd.concat(dfs, ignore_index=True)\n",
    "    return collapsed_data"
   ]
  },
  {
   "cell_type": "code",
   "execution_count": 268,
   "id": "f82fed6d",
   "metadata": {},
   "outputs": [
    {
     "name": "stdout",
     "output_type": "stream",
     "text": [
      "trial 0\n",
      "trial 1\n",
      "trial 2\n",
      "trial 3\n",
      "trial 4\n",
      "trial 5\n",
      "trial 6\n",
      "trial 7\n",
      "trial 8\n",
      "trial 9\n",
      "trial 10\n",
      "trial 11\n",
      "trial 12\n",
      "trial 13\n",
      "trial 14\n",
      "trial 15\n",
      "trial 16\n",
      "trial 17\n",
      "trial 18\n",
      "trial 19\n",
      "trial 0\n",
      "trial 1\n",
      "trial 2\n",
      "trial 3\n",
      "trial 4\n",
      "trial 5\n",
      "trial 6\n",
      "trial 7\n",
      "trial 8\n",
      "trial 9\n",
      "trial 10\n",
      "trial 11\n",
      "trial 12\n",
      "trial 13\n",
      "trial 14\n",
      "trial 15\n",
      "trial 16\n",
      "trial 17\n",
      "trial 18\n",
      "trial 19\n",
      "trial 0\n",
      "trial 1\n",
      "trial 2\n",
      "trial 3\n",
      "trial 4\n",
      "trial 5\n",
      "trial 6\n",
      "trial 7\n",
      "trial 8\n",
      "trial 9\n",
      "trial 10\n",
      "trial 11\n",
      "trial 12\n",
      "trial 13\n",
      "trial 14\n",
      "trial 15\n",
      "trial 16\n",
      "trial 17\n",
      "trial 18\n",
      "trial 19\n"
     ]
    }
   ],
   "source": [
    "data = scan_parameter(scan=\"decision threshold\", nNetworks=3, nTrials=20, deltaP=0.4, maxSamples=12)"
   ]
  },
  {
   "cell_type": "code",
   "execution_count": 273,
   "id": "69d48d4f",
   "metadata": {},
   "outputs": [
    {
     "name": "stdout",
     "output_type": "stream",
     "text": [
      "                 scan     param  seed  mean correct  mean cues\n",
      "0  decision threshold  0.365239     0          0.95       3.95\n",
      "1  decision threshold  0.412444     1          1.00       4.40\n",
      "2  decision threshold  0.287271     2          1.00       3.45\n"
     ]
    },
    {
     "data": {
      "image/png": "[encoded data removed]",
      "text/plain": [
       "<Figure size 638x300 with 1 Axes>"
      ]
     },
     "metadata": {},
     "output_type": "display_data"
    }
   ],
   "source": [
    "collapsed_data = collapse_scan(data, \"decision threshold\")\n",
    "print(collapsed_data)\n",
    "\n",
    "fig, ax = plt.subplots(figsize=((6.38, 3)))\n",
    "sns.regplot(data=collapsed_data, x=\"mean cues\", y=\"mean correct\", ax=ax)\n",
    "ax.set(xticks=np.arange(0, 12, 1))\n",
    "plt.show()"
   ]
  },
  {
   "cell_type": "code",
   "execution_count": null,
   "id": "27532164",
   "metadata": {},
   "outputs": [],
   "source": []
  }
 ],
 "metadata": {
  "kernelspec": {
   "display_name": "Python 3 (ipykernel)",
   "language": "python",
   "name": "python3"
  },
  "language_info": {
   "codemirror_mode": {
    "name": "ipython",
    "version": 3
   },
   "file_extension": ".py",
   "mimetype": "text/x-python",
   "name": "python",
   "nbconvert_exporter": "python",
   "pygments_lexer": "ipython3",
   "version": "3.10.6"
  }
 },
 "nbformat": 4,
 "nbformat_minor": 5
}
